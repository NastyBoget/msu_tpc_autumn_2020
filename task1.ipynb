{
 "cells": [
  {
   "cell_type": "markdown",
   "metadata": {},
   "source": [
    "## Тип документа\n",
    "\n",
    "Тип документа указывается в шапке документа (в верхней части документа).\n",
    "\n",
    "В рамках задания документ может относиться к одному из следующих типов:\n",
    "\n",
    "* «федеральный закон»\n",
    "* «постановление»\n",
    "* «приказ»\n",
    "* «распоряжение»\n",
    "* «закон»\n",
    "* «указ»\n",
    "\n",
    "Обратите внимание, что в перечне присутствуют два похожих, но отдельных типа: «закон» и «федеральный закон».\n",
    "\n",
    "Поле type должно содержать строку, обозначающую какой-то один из указанных типов, это задача классификации.\n",
    "\n",
    "**Оценка качества:** Требуется предсказать один из шести классов. Метрика качества – макро f1-мера."
   ]
  },
  {
   "cell_type": "markdown",
   "metadata": {},
   "source": [
    "Признаки:\n",
    "\n",
    "* количество \"федеральный\", \"закон\", \"постановление\", \"приказ\", \"распоряжение\", \"указ\", \"федеральный закон\" в тексте;\n",
    "* позиция, в которой встретилось каждое из этих слов;\n",
    "* бинарный признак - если какое-то из слов встретилось и написано капсом;\n",
    "* бинарный признак - если слово единственное в данной строке (учитываем слова из букв);\n",
    "* бинарный признак - если слово первое в строке (документе);\n",
    "* учет опечаток в словах??? - м. б. находить расстояние между словами (если слово написано капсом и одно в строке, то можно его сравнить со словами из нашего множества)\n",
    "* можно добавить еще поиск слов \"постановляет\" и т. д."
   ]
  },
  {
   "cell_type": "code",
   "execution_count": 1,
   "metadata": {},
   "outputs": [],
   "source": [
    "from sklearn.ensemble import GradientBoostingClassifier\n",
    "from sklearn.model_selection import cross_val_score\n",
    "from sklearn.metrics import f1_score\n",
    "import json\n",
    "import re\n",
    "import numpy as np"
   ]
  },
  {
   "cell_type": "code",
   "execution_count": 2,
   "metadata": {},
   "outputs": [],
   "source": [
    "reg_exprs = [\n",
    "    re.compile(r'[Ф|ф]едеральный [З|з]акон'),\n",
    "    re.compile(r'ФЕДЕРАЛЬНЫЙ ЗАКОН'),\n",
    "    re.compile(r'[П|п]остановление'),\n",
    "    re.compile(r'ПОСТАНОВЛЕНИЕ'),\n",
    "    re.compile(r'[З|з]акон'),\n",
    "    re.compile(r'ЗАКОН'),\n",
    "    re.compile(r'[П|п]риказ'),\n",
    "    re.compile(r'ПРИКАЗ'),\n",
    "    re.compile(r'[Р|р]аспоряжение'),\n",
    "    re.compile(r'РАСПОРЯЖЕНИЕ'),\n",
    "    re.compile(r'[У|у]каз'),\n",
    "    re.compile(r'УКАЗ')\n",
    "]"
   ]
  },
  {
   "cell_type": "code",
   "execution_count": 3,
   "metadata": {},
   "outputs": [],
   "source": [
    "TRAIN_DIR = 'train/txts/'"
   ]
  },
  {
   "cell_type": "code",
   "execution_count": 4,
   "metadata": {},
   "outputs": [],
   "source": [
    "def make_features(X):\n",
    "    \"\"\"\n",
    "    X - list of document names\n",
    "    returns list of lists with document features\n",
    "    \"\"\"\n",
    "    features = []\n",
    "    for doc_name in X:\n",
    "        with open(TRAIN_DIR + doc_name + '.txt', 'r') as f:\n",
    "            doc = f.read()\n",
    "        doc_features = [len(expr.findall(doc)) for expr in reg_exprs]\n",
    "#         for expr in reg_exprs:\n",
    "#             match = expr.match(doc)\n",
    "#             if match:\n",
    "#                 doc_features.append(match.span()[0])\n",
    "#             else:\n",
    "#                 doc_features.append(None)\n",
    "        features.append(np.array(doc_features))\n",
    "    return np.array(features)"
   ]
  },
  {
   "cell_type": "code",
   "execution_count": 5,
   "metadata": {},
   "outputs": [],
   "source": [
    "classes2num = {\n",
    "    'федеральный закон': 0,\n",
    "    'постановление': 1,\n",
    "    'приказ': 2,\n",
    "    'распоряжение': 3,\n",
    "    'закон': 4,\n",
    "    'указ': 5\n",
    "}\n",
    "\n",
    "num2classes = {\n",
    "    0: 'федеральный закон',\n",
    "    1: 'постановление',\n",
    "    2: 'приказ',\n",
    "    3: 'распоряжение',\n",
    "    4: 'закон',\n",
    "    5: 'указ'\n",
    "}"
   ]
  },
  {
   "cell_type": "code",
   "execution_count": 6,
   "metadata": {},
   "outputs": [],
   "source": [
    "names, y = [], []\n",
    "with open(\"train/gold_labels.txt\", \"r\") as read_file:\n",
    "    for doc_info in read_file.readlines():\n",
    "        doc_dict = json.loads(doc_info)\n",
    "        names.append(doc_dict['id'])\n",
    "        y.append(classes2num[doc_dict['label']['type']])\n",
    "names, y = np.array(names), np.array(y)"
   ]
  },
  {
   "cell_type": "code",
   "execution_count": 7,
   "metadata": {},
   "outputs": [],
   "source": [
    "X = make_features(names)"
   ]
  },
  {
   "cell_type": "code",
   "execution_count": 8,
   "metadata": {},
   "outputs": [],
   "source": [
    "clf = GradientBoostingClassifier()\n",
    "scores = cross_val_score(clf, X, y, cv=5, scoring='f1_macro')"
   ]
  },
  {
   "cell_type": "code",
   "execution_count": 9,
   "metadata": {},
   "outputs": [
    {
     "data": {
      "text/plain": [
       "array([0.98811521, 0.99118965, 0.98735857, 0.99559552, 0.97904905])"
      ]
     },
     "execution_count": 9,
     "metadata": {},
     "output_type": "execute_result"
    }
   ],
   "source": [
    "scores"
   ]
  },
  {
   "cell_type": "code",
   "execution_count": 10,
   "metadata": {},
   "outputs": [],
   "source": [
    "train = []\n",
    "with open(\"train/gold_labels.txt\", \"r\") as read_file:\n",
    "    for doc_info in read_file.readlines():\n",
    "        doc_dict = json.loads(doc_info)\n",
    "        docname = TRAIN_DIR + doc_dict['id'] + '.txt'\n",
    "        with open(docname, 'r') as f:\n",
    "            train.append((f.read(), doc_dict['label']))"
   ]
  },
  {
   "cell_type": "code",
   "execution_count": 11,
   "metadata": {},
   "outputs": [
    {
     "data": {
      "text/plain": [
       "{'date_accuracy': 0.0,\n",
       " 'number_accuracy': 0.0,\n",
       " 'type_f1_score': 0.9919679402,\n",
       " 'name_jaccard': 0.0,\n",
       " 'authority_jaccard': 0.0,\n",
       " 'subtasks_improves': 1}"
      ]
     },
     "execution_count": 11,
     "metadata": {},
     "output_type": "execute_result"
    }
   ],
   "source": [
    "from solution import Solution\n",
    "from sklearn.model_selection import train_test_split\n",
    "from eval_module import quality\n",
    "\n",
    "train_data, test = train_test_split(train)\n",
    "solution = Solution()\n",
    "solution.train(train_data)\n",
    "test_data = [x[0] for x in test]\n",
    "test_labels = [x[1] for x in test]\n",
    "result = solution.predict(test_data)\n",
    "quality(result, test_labels)"
   ]
  },
  {
   "cell_type": "code",
   "execution_count": 12,
   "metadata": {},
   "outputs": [
    {
     "name": "stdout",
     "output_type": "stream",
     "text": [
      "[[ 55   0   0   0   0   0]\n",
      " [  0 617   0   0   0   0]\n",
      " [  0   0  22   0   0   0]\n",
      " [  0   0   0 107   0   0]\n",
      " [  0   2   0   0  33   1]\n",
      " [  0   0   0   0   0 161]]\n"
     ]
    },
    {
     "data": {
      "image/png": "[encoded data removed]",
      "text/plain": [
       "<Figure size 720x720 with 2 Axes>"
      ]
     },
     "metadata": {
      "needs_background": "light"
     },
     "output_type": "display_data"
    }
   ],
   "source": [
    "import matplotlib.pyplot as plt\n",
    "from sklearn.metrics import confusion_matrix\n",
    "\n",
    "def plot_confusion_matrix(cm, classes,\n",
    "                          normalize=False,\n",
    "                          title='Confusion matrix',\n",
    "                          cmap=plt.cm.Blues):\n",
    "    \"\"\"\n",
    "    This function prints and plots the confusion matrix.\n",
    "    Normalization can be applied by setting `normalize=True`.\n",
    "    \"\"\"\n",
    "    import itertools\n",
    "\n",
    "    print(cm)\n",
    "\n",
    "    plt.imshow(cm, interpolation='nearest', cmap=cmap)\n",
    "#     plt.title(title, fontsize=20)\n",
    "    plt.colorbar()\n",
    "    tick_marks = np.arange(len(classes))\n",
    "    plt.xticks(tick_marks, classes, rotation=45, fontsize=20)\n",
    "    plt.yticks(tick_marks, classes, fontsize=20)\n",
    "\n",
    "    fmt = '.2f' if normalize else 'd'\n",
    "    thresh = cm.max() / 2.\n",
    "    for i, j in itertools.product(range(cm.shape[0]), range(cm.shape[1])):\n",
    "        plt.text(j, i, format(cm[i, j], fmt),\n",
    "                 horizontalalignment=\"center\",\n",
    "                 fontsize=20,\n",
    "                 color=\"white\" if cm[i, j] > thresh else \"black\")\n",
    "\n",
    "    plt.ylabel('Правильная метка', fontsize=20)\n",
    "    plt.xlabel('Предсказанная метка', fontsize=20)\n",
    "\n",
    "y_test = [x['type'] for x in test_labels]\n",
    "y_pred = [x['type'] for x in result]\n",
    "cnf_matrix = confusion_matrix(y_test, y_pred, labels=['федеральный закон', 'постановление', 'приказ', \n",
    "                                                      'распоряжение','закон', 'указ'])\n",
    "np.set_printoptions(precision=2)\n",
    "\n",
    "# Plot non-normalized confusion matrix\n",
    "plt.figure(figsize=(10, 10))\n",
    "plot_confusion_matrix(cnf_matrix, classes=['федеральный закон', 'постановление', 'приказ', \n",
    "                                           'распоряжение','закон', 'указ'],\n",
    "                      title='Confusion matrix, without normalization')"
   ]
  },
  {
   "cell_type": "markdown",
   "metadata": {},
   "source": [
    "Путаем постановление и закон - в чем проблема? - в постановлениях часто встречается слово \"закон\""
   ]
  },
  {
   "cell_type": "code",
   "execution_count": 13,
   "metadata": {},
   "outputs": [],
   "source": [
    "i = 0\n",
    "wrong_docs = []\n",
    "for test, pred in zip(y_test, y_pred):\n",
    "    if test != pred:\n",
    "        wrong_docs.append((names[i], test, pred))\n",
    "    i += 1"
   ]
  },
  {
   "cell_type": "code",
   "execution_count": 14,
   "metadata": {},
   "outputs": [
    {
     "name": "stdout",
     "output_type": "stream",
     "text": [
      "right value = закон\n",
      "wrong value = постановление\n",
      "ЗАКОН\n",
      "ЧУВАШСКОЙ РЕСПУБЛИКИ\n",
      "\n",
      "О ВНЕСЕНИИ ИЗМЕНЕНИЙ\n",
      "В СТАТЬЮ 3 ЗАКОНА ЧУВАШСКОЙ РЕСПУБЛИКИ\n",
      "\"О МУНИЦИПАЛЬНОМ ЖИЛИЩНОМ КОНТРОЛЕ\n",
      "И ВЗАИМОДЕЙСТВИИ ОРГАНА ГОСУДАРСТВЕННОГО\n",
      "ЖИЛИЩНОГО НАДЗОРА ЧУВАШСКОЙ РЕСПУБЛИКИ\n",
      "С ОРГАНАМИ МУНИЦИПАЛЬНОГО\n",
      "ЖИЛИЩНОГО КОНТРОЛЯ\"\n",
      "\n",
      "Принят\n",
      "Государственным Советом\n",
      "Чувашской Республики\n",
      "19 декабря 2014 года\n",
      "\n",
      "Статья 1\n",
      "\n",
      "Внести в статью 3 Закона Чувашской Республики от 3 октября\n",
      "2012 года № 58 \"О муниципальном жилищном контроле и взаимодействии\n",
      "органа государственного жилищного надзора Чувашской Республики с органами муниципального жилищного контроля\" (газета \"Республика\", 2012,\n",
      "5 октября; Собрание законодательства Чувашской Республики, 2014, № 2)\n",
      "следующие изменения:\n",
      "\n",
      "1) часть 1 изложить в следующей редакции:\n",
      "\n",
      "\"]. Органы - местного самоуправления муниципального района,\n",
      "городского поселения и городского округа организовывают муниципальный жилищный контроль соответственно на территории сельских поселений, городского поселения, городского округа и определяют орган муниципального жилищного контроля в соответствии с законодательством Рос\n",
      "сийской Федерации и законодательством Чувашской Республики.\";4\n",
      "\n",
      "3) о признании договора управления многоквартирным домом, договора оказания услуг и (или) выполнения работ по содержанию и ремонту\n",
      "общего имущества в многоквартирном доме либо договора оказания услуг\n",
      "по содержанию и (или) выполнению работ по ремонту общего имущества\n",
      "в многоквартирном доме недействительными в случае неисполнения\n",
      "в установленный срок предписания об устранении нарушений требований\n",
      "Жилищного кодекса Российской Федерации о выборе управляющей организации, об утверждении условий договора управления многоквартирным\n",
      "домом и о его заключении, о заключении договора оказания услуг и (или)\n",
      "выполнения работ по содержанию и ремонту общего имущества в многоквартирном доме либо договора оказания услуг по содержанию и (или)\n",
      "выполнению работ по ремонту общего имущества в многоквартирном\n",
      "доме, об утверждении условий указанных договоров;\n",
      "\n",
      "4) в защиту прав и законных интересов собственников, нанимателей\n",
      "и других пользователей жилых помещений по их обращению или в защиту\n",
      "прав, свобод и законных интересов неопределенного круга лиц в случае\n",
      "выявления нарушения обязательных требований;\n",
      "\n",
      "5) о признании договора найма жилого помещения жилищного фонда\n",
      "социального использования недействительным в случае неисполнения\n",
      "в установленный срок предписания об устранении несоответствия данного\n",
      "договора обязательным требованиям, установленным Жилищным кодексом\n",
      "\n",
      "Российской Федерации.\".\n",
      "\n",
      "Статья 2\n",
      "Настоящий Закон вступает в силу по истечении десяти дней после\n",
      "дня его официального опубликования, за исключением пункта 1 статьи 1\n",
      "\n",
      "настоящего Закона, вступающего в силу с 1 января 2015 года.\n",
      "\n",
      "Глава\n",
      "\n",
      "г. Чебоксары\n",
      "26 декабря 2014 года\n",
      "№ 90\n",
      "=====\n",
      "right value = закон\n",
      "wrong value = постановление\n",
      "УКАЗ\n",
      "\n",
      "ПРЕЗИДЕНТА РОССИЙСКОЙ ФЕДЕРАЦИИ\n",
      "\n",
      "О присвоении дипломатического ранга\n",
      "\n",
      "Присвоить - дипломатический - ранг - Чрезвычайного - и\n",
      "Полномочного Посланника 2 класса:\n",
      "\n",
      "Давыденко\n",
      "Анатолию Юрьевичу\n",
      "\n",
      "Коржуеву\n",
      "Алексею Вячеславовичу\n",
      "\n",
      "Ляхову\n",
      "Валерию Владимировичу\n",
      "\n",
      "Полищуку\n",
      "Алексею Анатольевичу\n",
      "\n",
      "Станиславову\n",
      "Евгению Арнольдовичу\n",
      "\n",
      "   \n",
      "\n",
      "Москва, Кремль\n",
      "23 июня 2014 года\n",
      "№ 461\n",
      "\n",
      "советнику-посланнику Посольства\n",
      "Российской Федерации в Народной\n",
      "Республике Бангладеш\n",
      "\n",
      "заместителю директора Департамента\n",
      "Северной - Америки - Министерства\n",
      "иностранных дел Российской Федерации\n",
      "\n",
      "советнику-посланнику Посольства\n",
      "Российской Федерации в Венгрии\n",
      "\n",
      "заместителю  директора Департамента\n",
      "\n",
      "общеевропейского сотрудничества\n",
      "Министерства иностранных дел\n",
      "Российской Федерации\n",
      "\n",
      "директору Департамента\n",
      "экономического сотрудничества\n",
      "Министерства иностранных дел\n",
      "\n",
      "Российской Федерации.\n",
      "\n",
      "'Чйрезидент\n",
      "\n",
      "ййской Федерации - В.Путин\n",
      "\n",
      "\".\n",
      "\n",
      "опп\n",
      "=====\n",
      "right value = закон\n",
      "wrong value = указ\n",
      "УКАЗ\n",
      "\n",
      "ГУБЕРНАТОРА ИВАНОВСКОЙ ОБЛАСТИ\n",
      "\n",
      "от 27.11.2014 № 231-уг\n",
      "г. Иваново\n",
      "\n",
      "О признании утратившими силу некоторых указов Губернатора\n",
      "Ивановской области\n",
      "\n",
      "В цеёелях оптимизации  деятельности  коллегиальных - органов\n",
      "Ивановской области п остановляю:\n",
      "\n",
      "Признать утратившими силу указы Губернатора Ивановской\n",
      "области:\n",
      "\n",
      "от 30.10.2012 № 192-уг \"О комиссии по вопросам организации\n",
      "взаимодействия между исполнительными органами государственной\n",
      "власти Ивановской области, органами - местного  самоуправления\n",
      "муниципальных образований Ивановской области, управляющими\n",
      "организациями и собственниками многоквартирных домов\";\n",
      "\n",
      "от 24.02.2014 № 45-уг \"О внесении изменений в указ Губернатора\n",
      "Ивановской области от 30.10.2012 № 192-уг \"О комиссии по вопросам\n",
      "организации - взаимодействия  между - исполнительными - органами\n",
      "государственной власти Ивановской области, органами - местного\n",
      "самоуправления муниципальных образований Ивановской области,\n",
      "управляющими организациями и собственниками многоквартирных\n",
      "ДОМОВ\".\n",
      "\n",
      "Губернатор\n",
      "\n",
      "Ивановской области П.А. Коньков\n",
      "=====\n"
     ]
    }
   ],
   "source": [
    "for doc_name, test, pred in wrong_docs:\n",
    "    with open(TRAIN_DIR + doc_name + '.txt', 'r') as f:\n",
    "        print(f\"right value = {test}\")\n",
    "        print(f\"wrong value = {pred}\")\n",
    "        print(f.read())\n",
    "        print(\"=====\")"
   ]
  },
  {
   "cell_type": "code",
   "execution_count": null,
   "metadata": {},
   "outputs": [],
   "source": []
  }
 ],
 "metadata": {
  "kernelspec": {
   "display_name": "Python 3",
   "language": "python",
   "name": "python3"
  },
  "language_info": {
   "codemirror_mode": {
    "name": "ipython",
    "version": 3
   },
   "file_extension": ".py",
   "mimetype": "text/x-python",
   "name": "python",
   "nbconvert_exporter": "python",
   "pygments_lexer": "ipython3",
   "version": "3.8.5"
  }
 },
 "nbformat": 4,
 "nbformat_minor": 4
}
