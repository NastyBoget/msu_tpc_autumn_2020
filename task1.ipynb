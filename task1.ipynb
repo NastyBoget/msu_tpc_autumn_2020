{
 "cells": [
  {
   "cell_type": "markdown",
   "metadata": {},
   "source": [
    "## Тип документа\n",
    "\n",
    "Тип документа указывается в шапке документа (в верхней части документа).\n",
    "\n",
    "В рамках задания документ может относиться к одному из следующих типов:\n",
    "\n",
    "* «федеральный закон»\n",
    "* «постановление»\n",
    "* «приказ»\n",
    "* «распоряжение»\n",
    "* «закон»\n",
    "* «указ»\n",
    "\n",
    "Обратите внимание, что в перечне присутствуют два похожих, но отдельных типа: «закон» и «федеральный закон».\n",
    "\n",
    "Поле type должно содержать строку, обозначающую какой-то один из указанных типов, это задача классификации.\n",
    "\n",
    "**Оценка качества:** Требуется предсказать один из шести классов. Метрика качества – макро f1-мера."
   ]
  },
  {
   "cell_type": "markdown",
   "metadata": {},
   "source": [
    "Признаки:\n",
    "\n",
    "* количество \"федеральный\", \"закон\", \"постановление\", \"приказ\", \"распоряжение\", \"указ\", \"федеральный закон\" в тексте;\n",
    "* позиция, в которой встретилось каждое из этих слов;\n",
    "* бинарный признак - если какое-то из слов встретилось и написано капсом;\n",
    "* бинарный признак - если слово единственное в данной строке (учитываем слова из букв);\n",
    "* бинарный признак - если слово первое в строке (документе);\n",
    "* учет опечаток в словах??? - м. б. находить расстояние между словами (если слово написано капсом и одно в строке, то можно его сравнить со словами из нашего множества)\n",
    "* можно добавить еще поиск слов \"постановляет\" и т. д."
   ]
  },
  {
   "cell_type": "code",
   "execution_count": 1,
   "metadata": {},
   "outputs": [],
   "source": [
    "import re\n",
    "import json\n",
    "import numpy as np\n",
    "from eval_module import quality"
   ]
  },
  {
   "cell_type": "code",
   "execution_count": 2,
   "metadata": {},
   "outputs": [],
   "source": [
    "train = []\n",
    "labeled = []\n",
    "names = []\n",
    "with open(\"train/gold_labels.txt\", \"r\") as read_file:\n",
    "    for doc_info in read_file.readlines():\n",
    "        doc_dict = json.loads(doc_info)\n",
    "        docname = 'train/txts/' + doc_dict['id'] + '.txt'\n",
    "        names.append(docname)\n",
    "        with open(docname, 'r') as f:\n",
    "            train.append(f.read())\n",
    "        labeled.append(doc_dict['label'])\n",
    "names = np.array(names)\n",
    "true_types = np.array([x['type'] for x in labeled])"
   ]
  },
  {
   "cell_type": "code",
   "execution_count": 195,
   "metadata": {},
   "outputs": [],
   "source": [
    "def preprocess(doc):\n",
    "    doc = '\\n' + doc.lower()\n",
    "    doc = re.sub(r'[нп]рика[з3]', 'приказ', doc)\n",
    "    doc = re.sub('ука3', 'указ', doc)\n",
    "    return doc"
   ]
  },
  {
   "cell_type": "code",
   "execution_count": 433,
   "metadata": {},
   "outputs": [],
   "source": [
    "exprs = ['закон\\s|федеральный закон', 'приказ|истрировано', 'указ', 'распоряжение', 'постановление']\n",
    "\n",
    "def find_best_match(types, doc):\n",
    "    # matches: закон приказ указ распоряжение постановление\n",
    "    ids = np.where(types)[0]\n",
    "    expr = \"\"\n",
    "    for i in ids:\n",
    "        expr = f\"{expr}|{exprs[i]}\"\n",
    "    if expr:\n",
    "        expr = expr[1:]\n",
    "    else:\n",
    "        return expr\n",
    "    expr = re.compile(expr)\n",
    "    \n",
    "    matches = expr.findall(doc)\n",
    "    if matches[0].strip() in ['закон', 'федеральный закон', 'указ', 'распоряжение', 'постановление']:\n",
    "        return matches[0].strip()\n",
    "    else:\n",
    "        return 'приказ'"
   ]
  },
  {
   "cell_type": "code",
   "execution_count": 434,
   "metadata": {},
   "outputs": [],
   "source": [
    "type_reg_exprs = [\n",
    "    re.compile(r'закон|федеральный закон'),\n",
    "    re.compile(r'приказ|истрировано'),\n",
    "    re.compile(r'указ'),\n",
    "    re.compile(r'распоряжение'),\n",
    "    re.compile(r'постановление')\n",
    "]\n",
    "\n",
    "def extract_type(doc):\n",
    "    doc = preprocess(doc)\n",
    "    if re.search('костромская областная дума', doc):\n",
    "        return 'закон'\n",
    "    matches = np.array([expr.search(doc) for expr in type_reg_exprs])\n",
    "    return find_best_match(matches, doc)"
   ]
  },
  {
   "cell_type": "code",
   "execution_count": 435,
   "metadata": {},
   "outputs": [],
   "source": [
    "def predict(test):\n",
    "    results = []\n",
    "    for doc in test:\n",
    "        doc_type = extract_type(doc)\n",
    "        prediction = {\"type\": doc_type,\n",
    "                      \"date\": \"\",\n",
    "                      \"number\": \"\",\n",
    "                      \"authority\": \"\",\n",
    "                      \"name\": \"\"}\n",
    "        results.append(prediction)\n",
    "    return results"
   ]
  },
  {
   "cell_type": "code",
   "execution_count": 436,
   "metadata": {},
   "outputs": [
    {
     "data": {
      "text/plain": [
       "{'date_accuracy': 0.0,\n",
       " 'number_accuracy': 0.0,\n",
       " 'type_f1_score': 1.0,\n",
       " 'name_jaccard': 0.0,\n",
       " 'authority_jaccard': 0.0,\n",
       " 'subtasks_improves': 1}"
      ]
     },
     "execution_count": 436,
     "metadata": {},
     "output_type": "execute_result"
    }
   ],
   "source": [
    "predicted = predict(train)\n",
    "quality(predicted, labeled)"
   ]
  },
  {
   "cell_type": "code",
   "execution_count": 437,
   "metadata": {},
   "outputs": [
    {
     "name": "stdout",
     "output_type": "stream",
     "text": [
      "федеральный закон (192): 1.0\n",
      "постановление (2459): 1.0\n",
      "приказ (77): 1.0\n",
      "распоряжение (430): 1.0\n",
      "закон (199): 1.0\n",
      "указ (632): 1.0\n"
     ]
    }
   ],
   "source": [
    "predicted_labels = np.array(predicted)\n",
    "test_labels = np.array(labeled)\n",
    "for doc_type in ['федеральный закон', 'постановление', 'приказ', 'распоряжение','закон', 'указ']:\n",
    "    ids = np.where(true_types == doc_type)\n",
    "    print(f\"{doc_type} ({ids[0].shape[0]}): {quality(predicted_labels[ids], test_labels[ids])['type_f1_score']}\")"
   ]
  },
  {
   "cell_type": "code",
   "execution_count": 438,
   "metadata": {},
   "outputs": [],
   "source": [
    "doc_type = 'указ'\n",
    "ids = np.where(true_types == doc_type)\n",
    "\n",
    "y_test = [x['type'] for x in test_labels[ids]]\n",
    "y_pred = [x['type'] for x in predicted_labels[ids]]\n",
    "\n",
    "wrong_docs = []\n",
    "i = 0\n",
    "for test, pred in zip(y_test, y_pred):\n",
    "    if test != pred:\n",
    "        wrong_docs.append((names[ids][i], test, pred))\n",
    "    i += 1\n",
    "    \n",
    "for doc_name, test, pred in wrong_docs:\n",
    "    with open(doc_name, 'r') as f:\n",
    "        print(f\"right value = {test}\")\n",
    "        print(f\"wrong value = {pred}\")\n",
    "        print(f\"docname = {doc_name}\")\n",
    "        print(f.read())\n",
    "        print(\"=====\")"
   ]
  },
  {
   "cell_type": "code",
   "execution_count": null,
   "metadata": {},
   "outputs": [],
   "source": []
  }
 ],
 "metadata": {
  "kernelspec": {
   "display_name": "Python 3",
   "language": "python",
   "name": "python3"
  },
  "language_info": {
   "codemirror_mode": {
    "name": "ipython",
    "version": 3
   },
   "file_extension": ".py",
   "mimetype": "text/x-python",
   "name": "python",
   "nbconvert_exporter": "python",
   "pygments_lexer": "ipython3",
   "version": "3.8.5"
  }
 },
 "nbformat": 4,
 "nbformat_minor": 4
}
