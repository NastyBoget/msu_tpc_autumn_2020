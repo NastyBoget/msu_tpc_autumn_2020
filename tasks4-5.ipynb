{
 "cells": [
  {
   "cell_type": "markdown",
   "metadata": {},
   "source": [
    "## Название документа\n",
    "\n",
    "Название НПА – это краткий текст, описывающий основную суть и тему документа.\n",
    "Название часто начинается с предлогов «о» или «об». В тексте НПА название может встречаться\n",
    "в кавычках или без кавычек. Название не включает в себя тип НПА.\n",
    "\n",
    "Для примера название документа – это «О заместителе Министра внутренних дел\n",
    "Российской Федерации – начальнике Следственного департамента Министерства внутренних дел Российской Федерации».\n",
    "\n",
    "Поле name должно содержать строку с названием в кавычках или без, в зависимости от того, как оно встретилось в тексте НПА. При сравнении предсказанного и настоящего номера в проверяющей системе не учитывается регистр букв, пробелы и символы перевода строки не различаются."
   ]
  },
  {
   "cell_type": "markdown",
   "metadata": {},
   "source": [
    "## Орган, принявший акт\n",
    "\n",
    "Часто автор документа указывается после слова «Принят», но далеко не всегда, например в указе автор - «Президент Российской Федерации».\n",
    "\n",
    "В рамках задания необходимо для каждого документа определить орган, его принявший. Наименование органов необходимо извлекать в «нормализованном виде»:\n",
    "\n",
    "* Ярославская областная дума\n",
    "* Федеральная служба по надзору в сфере образования и науки\n",
    "* Правительство Удмуртской Республики\n",
    "* Департамент охраны окружающей среды и природопользования Ярославской области\n",
    "\n",
    "В обучающей и тестовой выборке около 200 уникальных органов. В тестовой выборке есть органы, которых нет в обучающей.\n",
    "\n",
    "Поле authority должно содержать наименование органа в нормализованном виде. При сравнении предсказанного и настоящего органа не учитывается регистр букв, пробелы и символы перевода строки не различаются.\n",
    "\n",
    "### Оценка качества\n",
    "\n",
    "Допускается нечеткое совпадение. Метрика качества – средний коэффициент Жаккара.\n",
    "\n",
    "Коэффициент Жаккара вычисляется следующим образом:\n",
    "\n",
    "$$ L(s_{extr}, s_{gold}) = \\frac{intersect}{offset_{start} + intersect + offset_{end}} $$\n",
    "\n",
    "где $intersect$ - длина самой длинной общей подстроки у выделенной строки и строки из «золотой метки», $offset_{start}$ - наибольшее количество символов до начала общей подстроки в выделенной строке и в строке из «золотой метки», $offset_{end}$ - наибольшее количество символов от конца общей подстроки до конца строки в выделенной строке и в строке из «золотой метки».\n",
    "\n",
    "Эта метрика принимает значения от 0 до 1 и штрафует как за выделение более короткой строки чем строка из «золотой метки», так и за выделение более длинной строки."
   ]
  },
  {
   "cell_type": "markdown",
   "metadata": {},
   "source": [
    "* указ - президент, глава, губернатор\n",
    "\n",
    "* федеральный закон - Государственная Дума Федерального собрания Российской Федерации\n",
    "\n",
    "* приказ - управление, министерство, департамент, федеральная служба, комитет, агентство\n",
    "\n",
    "* распоряжение - правительство, администрация, губернатор, президент, глава, дума\n",
    "\n",
    "* закон - Государственный Совет, Законодательное собрание, областная дума, Законодательная Дума, Государственный Совет, Народное Собрание, Эл Курултай, Президент, областное Собрание\n",
    "\n",
    "* постановление - Правительство Российской Федерации, Конституционный Суд, Кабинет министров, \n",
    "    Правительство, Администрация, Губернатор, Глава, областной совет, областное Собрание,\n",
    "    Законодательное собрание"
   ]
  },
  {
   "cell_type": "code",
   "execution_count": 1,
   "metadata": {},
   "outputs": [],
   "source": [
    "import re\n",
    "from eval_module import quality\n",
    "import json\n",
    "import numpy as np"
   ]
  },
  {
   "cell_type": "code",
   "execution_count": 2,
   "metadata": {},
   "outputs": [],
   "source": [
    "train = []\n",
    "labeled = []\n",
    "names = []\n",
    "with open(\"train/gold_labels.txt\", \"r\") as read_file:\n",
    "    for doc_info in read_file.readlines():\n",
    "        doc_dict = json.loads(doc_info)\n",
    "        docname = 'train/txts/' + doc_dict['id'] + '.txt'\n",
    "        names.append(docname)\n",
    "        with open(docname, 'r') as f:\n",
    "            train.append(f.read())\n",
    "        labeled.append(doc_dict['label'])\n",
    "\n",
    "true_types = np.array([x['type'] for x in labeled])"
   ]
  },
  {
   "cell_type": "code",
   "execution_count": 24,
   "metadata": {},
   "outputs": [],
   "source": [
    "PREPR_EXPR = re.compile(r'[^\\wа-я\"\\s\\.,;:№\\-\\)\\(]')\n",
    "\n",
    "def preprocess_doc(doc):\n",
    "    doc = '\\n' + doc.lower()\n",
    "    doc = re.sub('_', ' ', doc)\n",
    "    doc = re.sub(' +', ' ', doc)\n",
    "    doc = re.sub(r'кои ', 'кой ', doc)\n",
    "    return PREPR_EXPR.sub('', doc)"
   ]
  },
  {
   "cell_type": "code",
   "execution_count": 156,
   "metadata": {},
   "outputs": [],
   "source": [
    "NAME_EXPR = re.compile(r'(\\nоб?\\s[а-я]([^\\n]+\\n)+\\n)')\n",
    "UKAZ_EXPR = re.compile(r'(\\nвопросы\\s([^\\n]+\\n)+\\n)')\n",
    "POST_EXPR = re.compile(r'\"о\\s[^\"]+\"')\n",
    "LAST_EXPR = re.compile(r'(об? ([^\\n]+\\n)+)\\n')\n",
    "POST2_EXPR = re.compile(r'(о внесении изменени[яй] [^\\\"]+)\\\"')\n",
    "\n",
    "\n",
    "def extract_name(doc, doc_type):\n",
    "    doc = preprocess_doc(doc)\n",
    "    match = NAME_EXPR.search(doc)\n",
    "    if match:\n",
    "        name = match.group(0).strip()\n",
    "        if doc.find('правительство пензенской области') != -1:\n",
    "            match = POST2_EXPR.search(name)\n",
    "            if match:\n",
    "                return match.group(0).strip()\n",
    "        return name\n",
    "    if doc_type == 'указ':\n",
    "        match = UKAZ_EXPR.search(doc)\n",
    "        if match:\n",
    "            return match.group(0).strip()\n",
    "    match = POST_EXPR.search(doc)\n",
    "    if match:\n",
    "        return match.group()\n",
    "    match = LAST_EXPR.search(doc)\n",
    "    if match:\n",
    "        return match.group(0).strip()\n",
    "    return \"\""
   ]
  },
  {
   "cell_type": "code",
   "execution_count": 157,
   "metadata": {},
   "outputs": [],
   "source": [
    "def extract_authority(doc, doc_type):\n",
    "    if doc_type == 'федеральный закон':\n",
    "        return \"Государственная Дума Федерального собрания Российской Федерации\"\n",
    "    return \"\""
   ]
  },
  {
   "cell_type": "code",
   "execution_count": 158,
   "metadata": {},
   "outputs": [],
   "source": [
    "def predict(test, doc_types):\n",
    "    results = []\n",
    "    for doc, doc_type in zip(test, doc_types):\n",
    "        authority = extract_authority(doc, doc_type)\n",
    "        name = extract_name(doc, doc_type)\n",
    "        prediction = {\"type\": \"\",\n",
    "                      \"date\": \"\",\n",
    "                      \"number\": \"\",\n",
    "                      \"authority\": authority,\n",
    "                      \"name\": name}\n",
    "        results.append(prediction)\n",
    "    return results"
   ]
  },
  {
   "cell_type": "code",
   "execution_count": 159,
   "metadata": {},
   "outputs": [
    {
     "data": {
      "text/plain": [
       "{'date_accuracy': 0.0,\n",
       " 'number_accuracy': 0.0,\n",
       " 'type_f1_score': 0.0,\n",
       " 'name_jaccard': 0.9825380501,\n",
       " 'authority_jaccard': 0.048132364,\n",
       " 'subtasks_improves': 1}"
      ]
     },
     "execution_count": 159,
     "metadata": {},
     "output_type": "execute_result"
    }
   ],
   "source": [
    "predicted = predict(train, true_types)\n",
    "quality(predicted, labeled)"
   ]
  },
  {
   "cell_type": "code",
   "execution_count": 160,
   "metadata": {},
   "outputs": [
    {
     "name": "stdout",
     "output_type": "stream",
     "text": [
      "федеральный закон: 0.9959043084\n",
      "постановление: 0.9824316182\n",
      "приказ: 0.9947019235\n",
      "распоряжение: 0.9753646302\n",
      "закон: 0.9367822698\n",
      "указ: 0.99669746\n"
     ]
    }
   ],
   "source": [
    "predicted_labels = np.array(predicted)\n",
    "test_labels = np.array(labeled)\n",
    "names = np.array(names)\n",
    "for doc_type in ['федеральный закон', 'постановление', 'приказ', 'распоряжение','закон', 'указ']:\n",
    "    ids = np.where(true_types == doc_type)\n",
    "    print(f\"{doc_type}: {quality(predicted_labels[ids], test_labels[ids])['name_jaccard']}\")"
   ]
  },
  {
   "cell_type": "code",
   "execution_count": 162,
   "metadata": {},
   "outputs": [],
   "source": [
    "from eval_module import preprocess, string_jaccard_metric\n",
    "\n",
    "doc_type = 'постановление'\n",
    "ids = np.where(true_types == doc_type)\n",
    "\n",
    "y_test = [(x['name'], x['type']) for x in test_labels[ids]]\n",
    "y_pred = [x['name'] for x in predicted_labels[ids]]\n",
    "\n",
    "wrong_docs = []\n",
    "i = 0\n",
    "for test, pred in zip(y_test, y_pred):\n",
    "    test_, pred_ = preprocess(test[0]), preprocess(pred)\n",
    "    if string_jaccard_metric([test_], [pred_]) < 0.6:\n",
    "        wrong_docs.append((names[ids][i], test, pred))\n",
    "    i += 1\n",
    "    \n",
    "for doc_name, test, pred in wrong_docs:\n",
    "    with open(doc_name, 'r') as f:\n",
    "        print(f\"right value = {test}\")\n",
    "        print(f\"wrong value = {pred}\")\n",
    "        print(f\"docname = {doc_name}\")\n",
    "        print(f.read())\n",
    "        print(\"===============================================================================================\")        \n",
    "        print(\"===============================================================================================\")"
   ]
  },
  {
   "cell_type": "code",
   "execution_count": null,
   "metadata": {},
   "outputs": [],
   "source": []
  }
 ],
 "metadata": {
  "kernelspec": {
   "display_name": "Python 3",
   "language": "python",
   "name": "python3"
  },
  "language_info": {
   "codemirror_mode": {
    "name": "ipython",
    "version": 3
   },
   "file_extension": ".py",
   "mimetype": "text/x-python",
   "name": "python",
   "nbconvert_exporter": "python",
   "pygments_lexer": "ipython3",
   "version": "3.8.5"
  }
 },
 "nbformat": 4,
 "nbformat_minor": 4
}
